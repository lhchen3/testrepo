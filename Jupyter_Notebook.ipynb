{
  "metadata": {
    "kernelspec": {
      "name": "python",
      "display_name": "Pyolite",
      "language": "python"
    },
    "language_info": {
      "codemirror_mode": {
        "name": "python",
        "version": 3
      },
      "file_extension": ".py",
      "mimetype": "text/x-python",
      "name": "python",
      "nbconvert_exporter": "python",
      "pygments_lexer": "ipython3",
      "version": "3.8"
    }
  },
  "nbformat_minor": 4,
  "nbformat": 4,
  "cells": [
    {
      "cell_type": "markdown",
      "source": "# My Jupyter Notebook on IBM Watson Studio",
      "metadata": {}
    },
    {
      "cell_type": "markdown",
      "source": "**Liam Chen**",
      "metadata": {}
    },
    {
      "cell_type": "markdown",
      "source": "*I am interested in data science because I can solve many problems.*",
      "metadata": {}
    },
    {
      "cell_type": "markdown",
      "source": "### The following code is an addition calculator for 2 numbers.",
      "metadata": {}
    },
    {
      "cell_type": "code",
      "source": "def addition_calculator(x, y):\n    return x + y\n\naddition_calculator(2, 3) == 5",
      "metadata": {
        "trusted": true
      },
      "execution_count": 2,
      "outputs": [
        {
          "execution_count": 2,
          "output_type": "execute_result",
          "data": {
            "text/plain": "True"
          },
          "metadata": {}
        }
      ]
    },
    {
      "cell_type": "markdown",
      "source": "---\n[Google link](https://www.google.com)\n\n| x        | y          | sum  |\n| -------- |:----------:| ----:|\n| 1        | 2          | 3    |\n| 2        | 3          | 5    |\n| 3        | 4          | 7    |",
      "metadata": {}
    }
  ]
}